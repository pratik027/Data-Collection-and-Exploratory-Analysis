{
 "cells": [
  {
   "cell_type": "code",
   "execution_count": 68,
   "metadata": {},
   "outputs": [
    {
     "data": {
      "image/png": "[encoded data removed]",
      "text/plain": [
       "plot without title"
      ]
     },
     "metadata": {},
     "output_type": "display_data"
    }
   ],
   "source": [
    "#Chart 3\n",
    "PositiveData <- read.csv(file=\"part2\\\\PositiveInflu.csv\", header=TRUE)\n",
    "show<-c((PositiveData[PositiveData[,\"WEEK\"]==4,])[6:12])\n",
    "s<-c(show$A..2009.H1N1,show$A..H3,show$A..Subtyping.not.Performed.,show$B,show$BVic,show$BYam,show$H3N2v)\n",
    "pie(s,colnames(PositiveData)[6:12],col=rainbow(length(s)))"
   ]
  },
  {
   "cell_type": "code",
   "execution_count": 319,
   "metadata": {},
   "outputs": [
    {
     "data": {},
     "metadata": {},
     "output_type": "display_data"
    },
    {
     "data": {
      "image/png": "[encoded data removed]",
      "text/plain": [
       "plot without title"
      ]
     },
     "metadata": {},
     "output_type": "display_data"
    }
   ],
   "source": [
    "#chart heatmap\n",
    "#install.packages(\"usmap\", repos = \"http://cran.us.r-project.org\")\n",
    "library(usmap)\n",
    "library(ggplot2)\n",
    "color<-c(rainbow(10))\n",
    "level<-c(\"Level 1\", \"Level 2\", \"Level 3\", \"Level 4\", \"Level 5\", \"Level 6\", \"Level 7\", \"Level 8\", \"Level 9\",\"Level 10\")\n",
    "names(color)=level\n",
    "heat <- read.csv(file=\"part2\\\\HeatMap.csv\", header=TRUE)\n",
    "names(heat)=c('state', 'URL' ,'WEBSITE' ,'ACTIVITY.LEVEL', 'ACTIVITY.LEVEL.LABEL', 'WEEKEND', 'WEEK', 'SEASON')\n",
    "ht<-heat[c(1)]\n",
    "val<-heat[c(4)]\n",
    "heat<-as.data.frame(heat)\n",
    "plot_usmap(regions = \"states\",data=heat,values=\"ACTIVITY.LEVEL\",labels=FALSE) + theme(legend.position='right', \n",
    "        legend.justification='top')+labs(fill = \"ILI Activity Level\")+scale_fill_manual(values = color,\n",
    "                    labels = level)"
   ]
  },
  {
   "cell_type": "code",
   "execution_count": 177,
   "metadata": {
    "scrolled": false
   },
   "outputs": [
    {
     "data": {
      "text/html": [
       "<ol class=list-inline>\n",
       "\t<li>1</li>\n",
       "\t<li>2</li>\n",
       "\t<li>3</li>\n",
       "\t<li>4</li>\n",
       "\t<li>5</li>\n",
       "\t<li>6</li>\n",
       "\t<li>7</li>\n",
       "\t<li>8</li>\n",
       "\t<li>9</li>\n",
       "\t<li>10</li>\n",
       "\t<li>11</li>\n",
       "\t<li>12</li>\n",
       "\t<li>13</li>\n",
       "\t<li>14</li>\n",
       "\t<li>15</li>\n",
       "\t<li>16</li>\n",
       "\t<li>17</li>\n",
       "\t<li>18</li>\n",
       "\t<li>19</li>\n",
       "\t<li>20</li>\n",
       "\t<li>21</li>\n",
       "\t<li>22</li>\n",
       "\t<li>23</li>\n",
       "\t<li>24</li>\n",
       "\t<li>25</li>\n",
       "\t<li>26</li>\n",
       "\t<li>27</li>\n",
       "\t<li>28</li>\n",
       "\t<li>29</li>\n",
       "\t<li>30</li>\n",
       "\t<li>31</li>\n",
       "\t<li>32</li>\n",
       "\t<li>33</li>\n",
       "\t<li>35</li>\n",
       "\t<li>36</li>\n",
       "\t<li>37</li>\n",
       "\t<li>38</li>\n",
       "\t<li>39</li>\n",
       "\t<li>40</li>\n",
       "\t<li>42</li>\n",
       "\t<li>43</li>\n",
       "\t<li>44</li>\n",
       "\t<li>45</li>\n",
       "\t<li>46</li>\n",
       "\t<li>47</li>\n",
       "\t<li>48</li>\n",
       "\t<li>50</li>\n",
       "\t<li>51</li>\n",
       "\t<li>52</li>\n",
       "\t<li>53</li>\n",
       "\t<li>54</li>\n",
       "\t<li>34</li>\n",
       "\t<li>41</li>\n",
       "\t<li>49</li>\n",
       "</ol>\n"
      ],
      "text/latex": [
       "\\begin{enumerate*}\n",
       "\\item 1\n",
       "\\item 2\n",
       "\\item 3\n",
       "\\item 4\n",
       "\\item 5\n",
       "\\item 6\n",
       "\\item 7\n",
       "\\item 8\n",
       "\\item 9\n",
       "\\item 10\n",
       "\\item 11\n",
       "\\item 12\n",
       "\\item 13\n",
       "\\item 14\n",
       "\\item 15\n",
       "\\item 16\n",
       "\\item 17\n",
       "\\item 18\n",
       "\\item 19\n",
       "\\item 20\n",
       "\\item 21\n",
       "\\item 22\n",
       "\\item 23\n",
       "\\item 24\n",
       "\\item 25\n",
       "\\item 26\n",
       "\\item 27\n",
       "\\item 28\n",
       "\\item 29\n",
       "\\item 30\n",
       "\\item 31\n",
       "\\item 32\n",
       "\\item 33\n",
       "\\item 35\n",
       "\\item 36\n",
       "\\item 37\n",
       "\\item 38\n",
       "\\item 39\n",
       "\\item 40\n",
       "\\item 42\n",
       "\\item 43\n",
       "\\item 44\n",
       "\\item 45\n",
       "\\item 46\n",
       "\\item 47\n",
       "\\item 48\n",
       "\\item 50\n",
       "\\item 51\n",
       "\\item 52\n",
       "\\item 53\n",
       "\\item 54\n",
       "\\item 34\n",
       "\\item 41\n",
       "\\item 49\n",
       "\\end{enumerate*}\n"
      ],
      "text/markdown": [
       "1. 1\n",
       "2. 2\n",
       "3. 3\n",
       "4. 4\n",
       "5. 5\n",
       "6. 6\n",
       "7. 7\n",
       "8. 8\n",
       "9. 9\n",
       "10. 10\n",
       "11. 11\n",
       "12. 12\n",
       "13. 13\n",
       "14. 14\n",
       "15. 15\n",
       "16. 16\n",
       "17. 17\n",
       "18. 18\n",
       "19. 19\n",
       "20. 20\n",
       "21. 21\n",
       "22. 22\n",
       "23. 23\n",
       "24. 24\n",
       "25. 25\n",
       "26. 26\n",
       "27. 27\n",
       "28. 28\n",
       "29. 29\n",
       "30. 30\n",
       "31. 31\n",
       "32. 32\n",
       "33. 33\n",
       "34. 35\n",
       "35. 36\n",
       "36. 37\n",
       "37. 38\n",
       "38. 39\n",
       "39. 40\n",
       "40. 42\n",
       "41. 43\n",
       "42. 44\n",
       "43. 45\n",
       "44. 46\n",
       "45. 47\n",
       "46. 48\n",
       "47. 50\n",
       "48. 51\n",
       "49. 52\n",
       "50. 53\n",
       "51. 54\n",
       "52. 34\n",
       "53. 41\n",
       "54. 49\n",
       "\n",
       "\n"
      ],
      "text/plain": [
       " [1]  1  2  3  4  5  6  7  8  9 10 11 12 13 14 15 16 17 18 19 20 21 22 23 24 25\n",
       "[26] 26 27 28 29 30 31 32 33 35 36 37 38 39 40 42 43 44 45 46 47 48 50 51 52 53\n",
       "[51] 54 34 41 49"
      ]
     },
     "metadata": {},
     "output_type": "display_data"
    }
   ],
   "source": [
    "HeatData <- read.csv(file=\"part2\\\\HeatMap.csv\", header=TRUE)\n",
    "week4data<-(HeatData[HeatData[,\"WEEK\"]==4,])\n",
    "#week4data\n",
    "#week4data[4]\n",
    "#cl <-c(week4data$STATENAME)\n",
    "#cl\n",
    "#state <-colnames(week4data)[1]\n",
    "level <-c(week4data[4])\n",
    "state <-c(week4data$STATENAME)\n",
    "#comb <-c(state,level)\n",
    "#comb\n",
    "#level\n",
    "state\n",
    "#week4data$STATENAME\n",
    "\n"
   ]
  },
  {
   "cell_type": "code",
   "execution_count": 128,
   "metadata": {},
   "outputs": [
    {
     "ename": "ERROR",
     "evalue": "Error in is.data.frame(map): object 'us' not found\n",
     "output_type": "error",
     "traceback": [
      "Error in is.data.frame(map): object 'us' not found\nTraceback:\n",
      "1. geom_map(aes(x = long, y = lat, map_id = region), data = us, \n .     map = us, fill = \"#ffffff\", color = \"#ffffff\", size = 0.15)",
      "2. stopifnot(is.data.frame(map))",
      "3. withCallingHandlers(tryCatch(if (missE) ...elt(i) else eval(cl.i, \n .     envir = envir), error = function(e) {\n .     e$call <- cl.i\n .     stop(e)\n . }), warning = function(w) {\n .     w$call <- cl.i\n .     w\n . })",
      "4. tryCatch(if (missE) ...elt(i) else eval(cl.i, envir = envir), \n .     error = function(e) {\n .         e$call <- cl.i\n .         stop(e)\n .     })",
      "5. tryCatchList(expr, classes, parentenv, handlers)",
      "6. tryCatchOne(expr, names, parentenv, handlers[[1L]])",
      "7. value[[3L]](cond)"
     ]
    }
   ],
   "source": [
    "ggplot() +\n",
    " geom_map(aes(x = long, y = lat, map_id = region), data = us,\n",
    "          map = us, fill = \"#ffffff\", color = \"#ffffff\", size = 0.15) +\n",
    " geom_map(aes(fill = level, map_id = state),\n",
    "          map = us, data = by_state,\n",
    "          color = \"#ffffff\", size = 0.15)"
   ]
  },
  {
   "cell_type": "code",
   "execution_count": 239,
   "metadata": {
    "scrolled": true
   },
   "outputs": [
    {
     "data": {
      "text/html": [
       "<ol class=list-inline>\n",
       "\t<li>'YEAR'</li>\n",
       "\t<li>'WEEK'</li>\n",
       "\t<li>'TOTAL.SPECIMENS'</li>\n",
       "\t<li>'TOTAL.A'</li>\n",
       "\t<li>'TOTAL.B'</li>\n",
       "\t<li>'PERCENT.POSITIVE'</li>\n",
       "\t<li>'PERCENT.A'</li>\n",
       "\t<li>'PERCENT.B'</li>\n",
       "</ol>\n"
      ],
      "text/latex": [
       "\\begin{enumerate*}\n",
       "\\item 'YEAR'\n",
       "\\item 'WEEK'\n",
       "\\item 'TOTAL.SPECIMENS'\n",
       "\\item 'TOTAL.A'\n",
       "\\item 'TOTAL.B'\n",
       "\\item 'PERCENT.POSITIVE'\n",
       "\\item 'PERCENT.A'\n",
       "\\item 'PERCENT.B'\n",
       "\\end{enumerate*}\n"
      ],
      "text/markdown": [
       "1. 'YEAR'\n",
       "2. 'WEEK'\n",
       "3. 'TOTAL.SPECIMENS'\n",
       "4. 'TOTAL.A'\n",
       "5. 'TOTAL.B'\n",
       "6. 'PERCENT.POSITIVE'\n",
       "7. 'PERCENT.A'\n",
       "8. 'PERCENT.B'\n",
       "\n",
       "\n"
      ],
      "text/plain": [
       "[1] \"YEAR\"             \"WEEK\"             \"TOTAL.SPECIMENS\"  \"TOTAL.A\"         \n",
       "[5] \"TOTAL.B\"          \"PERCENT.POSITIVE\" \"PERCENT.A\"        \"PERCENT.B\"       "
      ]
     },
     "metadata": {},
     "output_type": "display_data"
    },
    {
     "name": "stderr",
     "output_type": "stream",
     "text": [
      "Warning message in plot.window(...):\n",
      "\"\"labels\" is not a graphical parameter\"Warning message in plot.xy(xy, type, ...):\n",
      "\"\"labels\" is not a graphical parameter\"Warning message in box(...):\n",
      "\"\"labels\" is not a graphical parameter\"Warning message in title(...):\n",
      "\"\"labels\" is not a graphical parameter\""
     ]
    },
    {
     "data": {
      "image/png": "[encoded data removed]",
      "text/plain": [
       "plot without title"
      ]
     },
     "metadata": {},
     "output_type": "display_data"
    }
   ],
   "source": [
    "#chart1\n",
    "chart1data<- read.csv(file=\"part2\\\\Chart1.csv\", header=TRUE)\n",
    "colnames(chart1data)\n",
    "\n",
    "data<-chart1data[c(5,4)]\n",
    "week<-c(chart1data$WEEK)\n",
    "\n",
    "ba<-barplot(t(as.matrix(data)),names.arg=paste(chart1data$YEAR,chart1data$WEEK),ylab=\"number of positive specimens\",xlab=\"week\")\n",
    "par(new=TRUE)\n",
    "\n",
    "totalPos<-c(chart1data[6])\n",
    "plot(totalPos$PERCENT.POSITIVE, type=\"l\", col = \"black\",labels=FALSE,ylab=\"\",xlab=\"\")\n",
    "axis(side=4)\n",
    "\n",
    "percAPos<-c(chart1data[7])\n",
    "lines(percAPos$PERCENT.A , type=\"o\", col = \"blue\")\n",
    "\n",
    "percBPos<-c(chart1data[8])\n",
    "lines(percBPos$PERCENT.B, type=\"o\", col = \"red\")"
   ]
  },
  {
   "cell_type": "code",
   "execution_count": 158,
   "metadata": {},
   "outputs": [
    {
     "data": {
      "text/html": [
       "<ol class=list-inline>\n",
       "\t<li>'SEASON'</li>\n",
       "\t<li>'WEEK.NUMBER'</li>\n",
       "\t<li>'NO..OF.DEATHS'</li>\n",
       "\t<li>'PREVIOUS.WEEK.DEATHS'</li>\n",
       "\t<li>'CURRENT.WEEK.DEATHS'</li>\n",
       "</ol>\n"
      ],
      "text/latex": [
       "\\begin{enumerate*}\n",
       "\\item 'SEASON'\n",
       "\\item 'WEEK.NUMBER'\n",
       "\\item 'NO..OF.DEATHS'\n",
       "\\item 'PREVIOUS.WEEK.DEATHS'\n",
       "\\item 'CURRENT.WEEK.DEATHS'\n",
       "\\end{enumerate*}\n"
      ],
      "text/markdown": [
       "1. 'SEASON'\n",
       "2. 'WEEK.NUMBER'\n",
       "3. 'NO..OF.DEATHS'\n",
       "4. 'PREVIOUS.WEEK.DEATHS'\n",
       "5. 'CURRENT.WEEK.DEATHS'\n",
       "\n",
       "\n"
      ],
      "text/plain": [
       "[1] \"SEASON\"               \"WEEK.NUMBER\"          \"NO..OF.DEATHS\"       \n",
       "[4] \"PREVIOUS.WEEK.DEATHS\" \"CURRENT.WEEK.DEATHS\" "
      ]
     },
     "metadata": {},
     "output_type": "display_data"
    },
    {
     "data": {
      "image/png": "[encoded data removed]",
      "text/plain": [
       "plot without title"
      ]
     },
     "metadata": {},
     "output_type": "display_data"
    }
   ],
   "source": [
    "chart<- read.csv(file=\"part2\\\\Chart5.csv\",skip=1, header=TRUE)\n",
    "chart<-chart[1:180,]\n",
    "#chart<-chart[chart[,2]<=\"2019-06\",]\n",
    "colnames(chart)\n",
    "W=c(chart[2])\n",
    "\n",
    "barplot(t(as.matrix(chart[3])),names.arg=W$WEEK.NUMBER,las=2, cex.names=2)"
   ]
  },
  {
   "cell_type": "code",
   "execution_count": 238,
   "metadata": {},
   "outputs": [
    {
     "data": {
      "text/html": [
       "<ol class=list-inline>\n",
       "\t<li>'REGION.TYPE'</li>\n",
       "\t<li>'REGION'</li>\n",
       "\t<li>'YEAR'</li>\n",
       "\t<li>'WEEK'</li>\n",
       "\t<li>'TOTAL.SPECIMENS'</li>\n",
       "\t<li>'TOTAL.A'</li>\n",
       "\t<li>'TOTAL.B'</li>\n",
       "\t<li>'PERCENT.POSITIVE'</li>\n",
       "\t<li>'PERCENT.A'</li>\n",
       "\t<li>'PERCENT.B'</li>\n",
       "</ol>\n"
      ],
      "text/latex": [
       "\\begin{enumerate*}\n",
       "\\item 'REGION.TYPE'\n",
       "\\item 'REGION'\n",
       "\\item 'YEAR'\n",
       "\\item 'WEEK'\n",
       "\\item 'TOTAL.SPECIMENS'\n",
       "\\item 'TOTAL.A'\n",
       "\\item 'TOTAL.B'\n",
       "\\item 'PERCENT.POSITIVE'\n",
       "\\item 'PERCENT.A'\n",
       "\\item 'PERCENT.B'\n",
       "\\end{enumerate*}\n"
      ],
      "text/markdown": [
       "1. 'REGION.TYPE'\n",
       "2. 'REGION'\n",
       "3. 'YEAR'\n",
       "4. 'WEEK'\n",
       "5. 'TOTAL.SPECIMENS'\n",
       "6. 'TOTAL.A'\n",
       "7. 'TOTAL.B'\n",
       "8. 'PERCENT.POSITIVE'\n",
       "9. 'PERCENT.A'\n",
       "10. 'PERCENT.B'\n",
       "\n",
       "\n"
      ],
      "text/plain": [
       " [1] \"REGION.TYPE\"      \"REGION\"           \"YEAR\"             \"WEEK\"            \n",
       " [5] \"TOTAL.SPECIMENS\"  \"TOTAL.A\"          \"TOTAL.B\"          \"PERCENT.POSITIVE\"\n",
       " [9] \"PERCENT.A\"        \"PERCENT.B\"       "
      ]
     },
     "metadata": {},
     "output_type": "display_data"
    },
    {
     "name": "stderr",
     "output_type": "stream",
     "text": [
      "Warning message in plot.window(...):\n",
      "\"\"labels\" is not a graphical parameter\"Warning message in plot.xy(xy, type, ...):\n",
      "\"\"labels\" is not a graphical parameter\"Warning message in box(...):\n",
      "\"\"labels\" is not a graphical parameter\"Warning message in title(...):\n",
      "\"\"labels\" is not a graphical parameter\""
     ]
    },
    {
     "data": {
      "image/png": "[encoded data removed]",
      "text/plain": [
       "plot without title"
      ]
     },
     "metadata": {},
     "output_type": "display_data"
    }
   ],
   "source": [
    "#chart5\n",
    "chart1data<- read.csv(file=\"part2\\\\Chart6.csv\", skip=1,header=TRUE)\n",
    "chart1data<-chart1data[chart1data[,3]==2018,]\n",
    "colnames(chart1data)\n",
    "#chart1data\n",
    "\n",
    "data<-chart1data[c(7,6)]\n",
    "#week<-c(chart1data$WEEK)\n",
    "\n",
    "ba<-barplot(t(as.matrix(data)),names.arg=paste(chart1data$YEAR,chart1data$WEEK),ylab=\"number of positive specimens\",xlab=\"week\",las=2,cex.names=0.5)\n",
    "par(new=TRUE)\n",
    "\n",
    "totalPos<-c(chart1data[8])\n",
    "plot(totalPos$PERCENT.POSITIVE, type=\"l\", col = \"black\",labels=FALSE,ylab=\"\",xlab=\"\")\n",
    "axis(side=4)\n",
    "\n",
    "percAPos<-c(chart1data[9])\n",
    "lines(percAPos$PERCENT.A , type=\"o\", col = \"blue\")\n",
    "\n",
    "percBPos<-c(chart1data[10])\n",
    "lines(percBPos$PERCENT.B, type=\"o\", col = \"red\")"
   ]
  },
  {
   "cell_type": "code",
   "execution_count": 240,
   "metadata": {},
   "outputs": [
    {
     "data": {
      "text/html": [
       "<ol class=list-inline>\n",
       "\t<li>'REGION.TYPE'</li>\n",
       "\t<li>'REGION'</li>\n",
       "\t<li>'YEAR'</li>\n",
       "\t<li>'WEEK'</li>\n",
       "\t<li>'TOTAL.SPECIMENS'</li>\n",
       "\t<li>'TOTAL.A'</li>\n",
       "\t<li>'TOTAL.B'</li>\n",
       "\t<li>'PERCENT.POSITIVE'</li>\n",
       "\t<li>'PERCENT.A'</li>\n",
       "\t<li>'PERCENT.B'</li>\n",
       "</ol>\n"
      ],
      "text/latex": [
       "\\begin{enumerate*}\n",
       "\\item 'REGION.TYPE'\n",
       "\\item 'REGION'\n",
       "\\item 'YEAR'\n",
       "\\item 'WEEK'\n",
       "\\item 'TOTAL.SPECIMENS'\n",
       "\\item 'TOTAL.A'\n",
       "\\item 'TOTAL.B'\n",
       "\\item 'PERCENT.POSITIVE'\n",
       "\\item 'PERCENT.A'\n",
       "\\item 'PERCENT.B'\n",
       "\\end{enumerate*}\n"
      ],
      "text/markdown": [
       "1. 'REGION.TYPE'\n",
       "2. 'REGION'\n",
       "3. 'YEAR'\n",
       "4. 'WEEK'\n",
       "5. 'TOTAL.SPECIMENS'\n",
       "6. 'TOTAL.A'\n",
       "7. 'TOTAL.B'\n",
       "8. 'PERCENT.POSITIVE'\n",
       "9. 'PERCENT.A'\n",
       "10. 'PERCENT.B'\n",
       "\n",
       "\n"
      ],
      "text/plain": [
       " [1] \"REGION.TYPE\"      \"REGION\"           \"YEAR\"             \"WEEK\"            \n",
       " [5] \"TOTAL.SPECIMENS\"  \"TOTAL.A\"          \"TOTAL.B\"          \"PERCENT.POSITIVE\"\n",
       " [9] \"PERCENT.A\"        \"PERCENT.B\"       "
      ]
     },
     "metadata": {},
     "output_type": "display_data"
    },
    {
     "name": "stderr",
     "output_type": "stream",
     "text": [
      "Warning message in plot.window(...):\n",
      "\"\"labels\" is not a graphical parameter\"Warning message in plot.xy(xy, type, ...):\n",
      "\"\"labels\" is not a graphical parameter\"Warning message in box(...):\n",
      "\"\"labels\" is not a graphical parameter\"Warning message in title(...):\n",
      "\"\"labels\" is not a graphical parameter\""
     ]
    },
    {
     "data": {
      "image/png": "[encoded data removed]",
      "text/plain": [
       "plot without title"
      ]
     },
     "metadata": {},
     "output_type": "display_data"
    }
   ],
   "source": [
    "#chart8\n",
    "chart1data<- read.csv(file=\"part2\\\\Chart8.csv\", skip=1,header=TRUE)\n",
    "chart1data<-chart1data[chart1data[,3]==2018,]\n",
    "colnames(chart1data)\n",
    "#chart1data\n",
    "\n",
    "data<-chart1data[c(7,6)]\n",
    "\n",
    "\n",
    "ba<-barplot(t(as.matrix(data)),names.arg=paste(chart1data$YEAR,chart1data$WEEK),ylab=\"number of positive specimens\",xlab=\"week\")\n",
    "par(new=TRUE)\n",
    "\n",
    "totalPos<-c(chart1data[8])\n",
    "plot(totalPos$PERCENT.POSITIVE, type=\"l\", col = \"black\",labels=FALSE,ylab=\"\",xlab=\"\")\n",
    "axis(side=4)\n",
    "\n",
    "percAPos<-c(chart1data[9])\n",
    "lines(percAPos$PERCENT.A , type=\"o\", col = \"blue\")\n",
    "\n",
    "percBPos<-c(chart1data[10])\n",
    "lines(percBPos$PERCENT.B, type=\"o\", col = \"red\")"
   ]
  },
  {
   "cell_type": "code",
   "execution_count": 241,
   "metadata": {},
   "outputs": [],
   "source": [
    "# Heat Map\n"
   ]
  },
  {
   "cell_type": "code",
   "execution_count": null,
   "metadata": {},
   "outputs": [],
   "source": []
  }
 ],
 "metadata": {
  "kernelspec": {
   "display_name": "R",
   "language": "R",
   "name": "ir"
  },
  "language_info": {
   "codemirror_mode": "r",
   "file_extension": ".r",
   "mimetype": "text/x-r-source",
   "name": "R",
   "pygments_lexer": "r",
   "version": "3.5.1"
  }
 },
 "nbformat": 4,
 "nbformat_minor": 2
}
